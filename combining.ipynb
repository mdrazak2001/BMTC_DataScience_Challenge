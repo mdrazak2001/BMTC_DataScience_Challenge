{
 "cells": [
  {
   "cell_type": "code",
   "execution_count": 1,
   "metadata": {},
   "outputs": [],
   "source": [
    "import math\n",
    "import pickle\n",
    "from shapely.geometry import Point\n",
    "import geopandas as gpd\n",
    "\n",
    "\n",
    "def getPathLength(lat1,lng1,lat2,lng2):\n",
    "    '''calculates the distance between two lat, long coordinate pairs'''\n",
    "    R = 6371000 # radius of earth in m\n",
    "    lat1rads = math.radians(lat1)\n",
    "    lat2rads = math.radians(lat2)\n",
    "    deltaLat = math.radians((lat2-lat1))\n",
    "    deltaLng = math.radians((lng2-lng1))\n",
    "    a = math.sin(deltaLat/2) * math.sin(deltaLat/2) + math.cos(lat1rads) * math.cos(lat2rads) * math.sin(deltaLng/2) * math.sin(deltaLng/2)\n",
    "    c = 2 * math.atan2(math.sqrt(a), math.sqrt(1-a))\n",
    "    d = R * c\n",
    "    return d\n",
    "\n",
    "def getDestinationLatLong(lat,lng,azimuth,distance):\n",
    "    '''returns the lat an long of destination point \n",
    "    given the start lat, long, aziuth, and distance'''\n",
    "    R = 6378.1 #Radius of the Earth in km\n",
    "    brng = math.radians(azimuth) #Bearing is degrees converted to radians.\n",
    "    d = distance/1000 #Distance m converted to km\n",
    "    lat1 = math.radians(lat) #Current dd lat point converted to radians\n",
    "    lon1 = math.radians(lng) #Current dd long point converted to radians\n",
    "    lat2 = math.asin(math.sin(lat1) * math.cos(d/R) + math.cos(lat1)* math.sin(d/R)* math.cos(brng))\n",
    "    lon2 = lon1 + math.atan2(math.sin(brng) * math.sin(d/R)* math.cos(lat1), math.cos(d/R)- math.sin(lat1)* math.sin(lat2))\n",
    "    #convert back to degrees\n",
    "    lat2 = math.degrees(lat2)\n",
    "    lon2 = math.degrees(lon2)\n",
    "    return[lat2, lon2]\n",
    "\n",
    "def calculateBearing(lat1,lng1,lat2,lng2):\n",
    "    '''calculates the azimuth in degrees from start point to end point'''\n",
    "    startLat = math.radians(lat1)\n",
    "    startLong = math.radians(lng1)\n",
    "    endLat = math.radians(lat2)\n",
    "    endLong = math.radians(lng2)\n",
    "    dLong = endLong - startLong\n",
    "    dPhi = math.log(math.tan(endLat/2.0+math.pi/4.0)/math.tan(startLat/2.0+math.pi/4.0))\n",
    "    if abs(dLong) > math.pi:\n",
    "         if dLong > 0.0:\n",
    "             dLong = -(2.0 * math.pi - dLong)\n",
    "         else:\n",
    "             dLong = (2.0 * math.pi + dLong)\n",
    "    bearing = (math.degrees(math.atan2(dLong, dPhi)) + 360.0) % 360.0;\n",
    "    return bearing\n",
    "\n",
    "def coords_src_dest(interval,azimuth,lat1,lng1,lat2,lng2):\n",
    "    '''returns every coordinate pair inbetween two coordinate \n",
    "    pairs given the desired interval'''\n",
    "\n",
    "    d = getPathLength(lat1,lng1,lat2,lng2)\n",
    "    remainder, dist = math.modf((d / interval))\n",
    "    counter = float(interval)\n",
    "    coords = []\n",
    "    coords.append([lat1,lng1])\n",
    "    for distance in range(0,int(dist)):\n",
    "        coord = getDestinationLatLong(lat1,lng1,azimuth,counter)\n",
    "        counter = counter + float(interval)\n",
    "        coords.append(coord)\n",
    "    coords.append([lat2,lng2])\n",
    "    return coords"
   ]
  },
  {
   "cell_type": "code",
   "execution_count": 2,
   "metadata": {},
   "outputs": [
    {
     "name": "stdout",
     "output_type": "stream",
     "text": [
      "354.0074833512549\n",
      "12.794702 77.624046\n"
     ]
    }
   ],
   "source": [
    "if __name__ == \"__main__\":\n",
    "    #point interval in meters\n",
    "    interval = 2.0\n",
    "    #direction of line in degrees\n",
    "    #start point\n",
    "    lat1 = 12.794702\n",
    "    lng1 = 77.624046\n",
    "    \t\n",
    "    #end point\n",
    "    lat2 = 12.863790\n",
    "    lng2 = 77.616608\n",
    "    azimuth = calculateBearing(lat1,lng1,lat2,lng2)\n",
    "    print (azimuth)\n",
    "    coords = coords_src_dest(interval,azimuth,lat1,lng1,lat2,lng2)\n",
    "    for lat,long in coords:\n",
    "        print(lat, long)\n",
    "        break\n",
    "    # print(getPathLength())"
   ]
  },
  {
   "cell_type": "code",
   "execution_count": 8,
   "metadata": {},
   "outputs": [
    {
     "name": "stdout",
     "output_type": "stream",
     "text": [
      "29.668901740112897\n",
      "7.19370251952082\n"
     ]
    }
   ],
   "source": [
    "def locs_to_avgspeed(lat1, lng1, lat2, lng2, model):\n",
    "    interval = 10\n",
    "    azimuth = calculateBearing(lat1, lng1, lat2, lng2)\n",
    "    coords =  coords_src_dest(interval, azimuth, lat1, lng1, lat2, lng2)\n",
    "    speeds = float()\n",
    "    for lat, lng in coords:\n",
    "        speeds = speeds + model.predict([[math.radians(lat),math.radians(lng)]])\n",
    "    return float(speeds / len(coords))\n",
    "model = pickle.load(open('21nbrs(5.19,67.91,8.24).sav', 'rb'))\n",
    "# model = pickle.load(open('21nbrs.sav', 'rb'))\n",
    "lat1 = 12.918303\t\n",
    "lng1 = 77.589500\n",
    "lat2 = 12.923568\t\n",
    "lng2 = 77.655655\n",
    "\t\t\t\n",
    "speed = locs_to_avgspeed(lat1, lng1, lat2, lng2, model)\n",
    "distance = getPathLength(lat1, lng1, lat2, lng2) / 1000\n",
    "print(distance * 60 / speed)\n",
    "print(distance)\n"
   ]
  },
  {
   "cell_type": "code",
   "execution_count": 4,
   "metadata": {},
   "outputs": [
    {
     "data": {
      "text/plain": [
       "'\\ns = d / t => t = d / s  \\nkm / km h-1 => h * 60 => minutes \\n'"
      ]
     },
     "execution_count": 4,
     "metadata": {},
     "output_type": "execute_result"
    }
   ],
   "source": [
    "'''\n",
    "s = d / t => t = d / s  \n",
    "km / km h-1 => h * 60 => minutes \n",
    "'''"
   ]
  }
 ],
 "metadata": {
  "kernelspec": {
   "display_name": "Python 3.10.0 ('venv': venv)",
   "language": "python",
   "name": "python3"
  },
  "language_info": {
   "codemirror_mode": {
    "name": "ipython",
    "version": 3
   },
   "file_extension": ".py",
   "mimetype": "text/x-python",
   "name": "python",
   "nbconvert_exporter": "python",
   "pygments_lexer": "ipython3",
   "version": "3.10.0"
  },
  "orig_nbformat": 4,
  "vscode": {
   "interpreter": {
    "hash": "d1cf46a7260d7f2d9359d34f9dc48d63ab131bef0434ad0f6237988842ded732"
   }
  }
 },
 "nbformat": 4,
 "nbformat_minor": 2
}
