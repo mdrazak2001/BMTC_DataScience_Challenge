{
 "cells": [
  {
   "cell_type": "code",
   "execution_count": 45,
   "metadata": {},
   "outputs": [],
   "source": [
    "import math\n",
    "import pickle\n",
    "from shapely.geometry import Point\n",
    "import geopandas as gpd\n",
    "from sklearn.metrics import mean_absolute_error\n",
    "from sklearn.metrics import mean_squared_error\n",
    "\n",
    "def getPathLength(lat1,lng1,lat2,lng2):\n",
    "    '''calculates the distance between two lat, long coordinate pairs'''\n",
    "    R = 6371000 # radius of earth in m\n",
    "    lat1rads = math.radians(lat1)\n",
    "    lat2rads = math.radians(lat2)\n",
    "    deltaLat = math.radians((lat2-lat1))\n",
    "    deltaLng = math.radians((lng2-lng1))\n",
    "    a = math.sin(deltaLat/2) * math.sin(deltaLat/2) + math.cos(lat1rads) * math.cos(lat2rads) * math.sin(deltaLng/2) * math.sin(deltaLng/2)\n",
    "    c = 2 * math.atan2(math.sqrt(a), math.sqrt(1-a))\n",
    "    d = R * c\n",
    "    return d\n",
    "\n",
    "def getDestinationLatLong(lat,lng,azimuth,distance):\n",
    "    '''returns the lat an long of destination point \n",
    "    given the start lat, long, aziuth, and distance'''\n",
    "    R = 6378.1 #Radius of the Earth in km\n",
    "    brng = math.radians(azimuth) #Bearing is degrees converted to radians.\n",
    "    d = distance/1000 #Distance m converted to km\n",
    "    lat1 = math.radians(lat) #Current dd lat point converted to radians\n",
    "    lon1 = math.radians(lng) #Current dd long point converted to radians\n",
    "    lat2 = math.asin(math.sin(lat1) * math.cos(d/R) + math.cos(lat1)* math.sin(d/R)* math.cos(brng))\n",
    "    lon2 = lon1 + math.atan2(math.sin(brng) * math.sin(d/R)* math.cos(lat1), math.cos(d/R)- math.sin(lat1)* math.sin(lat2))\n",
    "    #convert back to degrees\n",
    "    lat2 = math.degrees(lat2)\n",
    "    lon2 = math.degrees(lon2)\n",
    "    return[lat2, lon2]\n",
    "\n",
    "def calculateBearing(lat1,lng1,lat2,lng2):\n",
    "    '''calculates the azimuth in degrees from start point to end point'''\n",
    "    startLat = math.radians(lat1)\n",
    "    startLong = math.radians(lng1)\n",
    "    endLat = math.radians(lat2)\n",
    "    endLong = math.radians(lng2)\n",
    "    dLong = endLong - startLong\n",
    "    dPhi = math.log(math.tan(endLat/2.0+math.pi/4.0)/math.tan(startLat/2.0+math.pi/4.0))\n",
    "    if abs(dLong) > math.pi:\n",
    "         if dLong > 0.0:\n",
    "             dLong = -(2.0 * math.pi - dLong)\n",
    "         else:\n",
    "             dLong = (2.0 * math.pi + dLong)\n",
    "    bearing = (math.degrees(math.atan2(dLong, dPhi)) + 360.0) % 360.0;\n",
    "    return bearing\n",
    "\n",
    "def coords_src_dest(interval,azimuth,lat1,lng1,lat2,lng2):\n",
    "    '''returns every coordinate pair inbetween two coordinate \n",
    "    pairs given the desired interval'''\n",
    "\n",
    "    d = getPathLength(lat1,lng1,lat2,lng2)\n",
    "    remainder, dist = math.modf((d / interval))\n",
    "    counter = float(interval)\n",
    "    coords = []\n",
    "    coords.append([lat1,lng1])\n",
    "    for distance in range(0,int(dist)):\n",
    "        coord = getDestinationLatLong(lat1,lng1,azimuth,counter)\n",
    "        counter = counter + float(interval)\n",
    "        coords.append(coord)\n",
    "    coords.append([lat2,lng2])\n",
    "    return coords"
   ]
  },
  {
   "cell_type": "code",
   "execution_count": 10,
   "metadata": {},
   "outputs": [
    {
     "name": "stdout",
     "output_type": "stream",
     "text": [
      "354.0074833512549\n",
      "12.794702 77.624046\n"
     ]
    }
   ],
   "source": [
    "if __name__ == \"__main__\":\n",
    "    #point interval in meters\n",
    "    interval = 2.0\n",
    "    #direction of line in degrees\n",
    "    #start point\n",
    "    lat1 = 12.794702\n",
    "    lng1 = 77.624046\n",
    "    \t\n",
    "    #end point\n",
    "    lat2 = 12.863790\n",
    "    lng2 = 77.616608\n",
    "    azimuth = calculateBearing(lat1,lng1,lat2,lng2)\n",
    "    print (azimuth)\n",
    "    coords = coords_src_dest(interval,azimuth,lat1,lng1,lat2,lng2)\n",
    "    for lat,long in coords:\n",
    "        print(lat, long)\n",
    "        break\n",
    "    # print(getPathLength())"
   ]
  },
  {
   "cell_type": "code",
   "execution_count": 40,
   "metadata": {},
   "outputs": [
    {
     "name": "stdout",
     "output_type": "stream",
     "text": [
      "29.79829676819456\n",
      "7.19370251952082\n"
     ]
    }
   ],
   "source": [
    "def locs_to_avgspeed(lat1, lng1, lat2, lng2, model):\n",
    "    interval = 25\n",
    "    azimuth = calculateBearing(lat1, lng1, lat2, lng2)\n",
    "    coords =  coords_src_dest(interval, azimuth, lat1, lng1, lat2, lng2)\n",
    "    speeds = float()\n",
    "    for lat, lng in coords:\n",
    "        speeds = speeds + model.predict([[math.radians(lat),math.radians(lng)]])\n",
    "    return float(speeds / len(coords))\n",
    "model = pickle.load(open('21nbrs(5.19,67.91,8.24).sav', 'rb'))\n",
    "# model = pickle.load(open('21nbrs.sav', 'rb'))\n",
    "lat1 = 12.918303\t\t\t\t\t\n",
    "lng1 = 77.589500\n",
    "lat2 = 12.923568\n",
    "lng2 = 77.655655\n",
    "\t\t\t\n",
    "speed = locs_to_avgspeed(lat1, lng1, lat2, lng2, model)\n",
    "distance = getPathLength(lat1, lng1, lat2, lng2) / 1000\n",
    "print(distance * 60 / speed)\n",
    "print(distance)"
   ]
  },
  {
   "cell_type": "code",
   "execution_count": 5,
   "metadata": {},
   "outputs": [
    {
     "data": {
      "text/plain": [
       "'\\ns = d / t => t = d / s  \\nkm / km h-1 => h * 60 => minutes \\n'"
      ]
     },
     "execution_count": 5,
     "metadata": {},
     "output_type": "execute_result"
    }
   ],
   "source": [
    "'''\n",
    "s = d / t => t = d / s  \n",
    "km / km h-1 => h * 60 => minutes \n",
    "'''"
   ]
  },
  {
   "cell_type": "code",
   "execution_count": 54,
   "metadata": {},
   "outputs": [],
   "source": [
    "import pandas as pd\n",
    "def prediction(df, model, model2): \n",
    "    ETT = []\n",
    "    distances = []\n",
    "    speeds = []\n",
    "    Numpy_Vectorized_df = df.to_numpy()\n",
    "    for row in Numpy_Vectorized_df:\n",
    "        speed = locs_to_avgspeed(row[0], row[1], row[2], row[3], model)\n",
    "        distance = getPathLength(row[0], row[1], row[2], row[3]) / 1000\n",
    "        time = distance * 60 / speed\n",
    "        time_updated = model2.predict([[speed, distance, time]])[0]\n",
    "        ETT.append(time_updated)\n",
    "        distances.append(distance)  \n",
    "        speeds.append(speed)\n",
    "    return ETT, distances, speeds\n",
    "    \n",
    "df = pd.read_csv('data/df.csv')\n",
    "df = df.loc[:, ~df.columns.str.contains('^Unnamed')]\n",
    "model = pickle.load(open('21nbrs(5.19,67.91,8.24).sav', 'rb'))\n",
    "model2 = pickle.load(open('Speeds_Dist_ETT.sav', 'rb'))\n",
    "ETT, distances, speeds = prediction(df, model, model2)"
   ]
  },
  {
   "cell_type": "code",
   "execution_count": 63,
   "metadata": {},
   "outputs": [
    {
     "data": {
      "text/plain": [
       "61.21066179349269"
      ]
     },
     "execution_count": 63,
     "metadata": {},
     "output_type": "execute_result"
    }
   ],
   "source": [
    "model2 = pickle.load(open('Speeds_Dist_ETT.sav', 'rb'))\n",
    "model2.predict([[17.34052244748174,11.850318106236694,41.00332550692316]])[0]"
   ]
  },
  {
   "cell_type": "code",
   "execution_count": 50,
   "metadata": {},
   "outputs": [],
   "source": [
    "new_df = pd.DataFrame(list(zip(speeds, distances, ETT, df['TT'].to_list())), columns=['Speeds', 'Distance','ETT', 'TT'])\n",
    "new_df.to_csv('data/new_df2.csv')"
   ]
  },
  {
   "cell_type": "markdown",
   "metadata": {},
   "source": [
    "Pure KNN Reg Model"
   ]
  },
  {
   "cell_type": "code",
   "execution_count": 36,
   "metadata": {},
   "outputs": [
    {
     "name": "stdout",
     "output_type": "stream",
     "text": [
      "MAE: 12.645236407256357\n",
      "MSE: 294.001269432807\n",
      "RMSE: 17.14646521685467\n"
     ]
    }
   ],
   "source": [
    "print(\"MAE:\", mean_absolute_error(new_df['TT'], new_df['ETT']))\n",
    "print(\"MSE:\", mean_squared_error(new_df['TT'], new_df['ETT']))\n",
    "print(\"RMSE:\", math.sqrt(mean_squared_error(new_df['TT'], new_df['ETT'])))"
   ]
  },
  {
   "cell_type": "markdown",
   "metadata": {},
   "source": [
    "Combo with Linear Reg Model (Dist ETT)"
   ]
  },
  {
   "cell_type": "code",
   "execution_count": 47,
   "metadata": {},
   "outputs": [
    {
     "name": "stdout",
     "output_type": "stream",
     "text": [
      "MAE: 6.645190730011843\n",
      "MSE: 79.12087374082824\n",
      "RMSE: 8.894991497512983\n"
     ]
    }
   ],
   "source": [
    "print(\"MAE:\", mean_absolute_error(new_df['TT'], ETT))\n",
    "print(\"MSE:\", mean_squared_error(new_df['TT'], ETT))\n",
    "print(\"RMSE:\", math.sqrt(mean_squared_error(new_df['TT'], ETT)))"
   ]
  },
  {
   "cell_type": "markdown",
   "metadata": {},
   "source": [
    "Combo with Linear Reg Model (Speeds Dist)"
   ]
  },
  {
   "cell_type": "code",
   "execution_count": 53,
   "metadata": {},
   "outputs": [
    {
     "name": "stdout",
     "output_type": "stream",
     "text": [
      "MAE: 6.91482512086931\n",
      "MSE: 81.05665183542222\n",
      "RMSE: 9.003146774068622\n"
     ]
    }
   ],
   "source": [
    "print(\"MAE:\", mean_absolute_error(new_df['TT'], ETT))\n",
    "print(\"MSE:\", mean_squared_error(new_df['TT'], ETT))\n",
    "print(\"RMSE:\", math.sqrt(mean_squared_error(new_df['TT'], ETT)))"
   ]
  },
  {
   "cell_type": "markdown",
   "metadata": {},
   "source": [
    "Combo with Linear Reg Model (Speeds Dist ETT(X) - TT(Y))"
   ]
  },
  {
   "cell_type": "code",
   "execution_count": 56,
   "metadata": {},
   "outputs": [
    {
     "name": "stdout",
     "output_type": "stream",
     "text": [
      "MAE: 6.605919842226036\n",
      "MSE: 78.25485732734043\n",
      "RMSE: 8.846177554590481\n"
     ]
    }
   ],
   "source": [
    "print(\"MAE:\", mean_absolute_error(new_df['TT'], ETT))\n",
    "print(\"MSE:\", mean_squared_error(new_df['TT'], ETT))\n",
    "print(\"RMSE:\", math.sqrt(mean_squared_error(new_df['TT'], ETT)))"
   ]
  }
 ],
 "metadata": {
  "kernelspec": {
   "display_name": "Python 3.10.0 ('venv': venv)",
   "language": "python",
   "name": "python3"
  },
  "language_info": {
   "codemirror_mode": {
    "name": "ipython",
    "version": 3
   },
   "file_extension": ".py",
   "mimetype": "text/x-python",
   "name": "python",
   "nbconvert_exporter": "python",
   "pygments_lexer": "ipython3",
   "version": "3.10.0"
  },
  "orig_nbformat": 4,
  "vscode": {
   "interpreter": {
    "hash": "c33797d7be15b7159302cceaf31399d146a6bc3ee2b9cce15795bee88cc5d90c"
   }
  }
 },
 "nbformat": 4,
 "nbformat_minor": 2
}
