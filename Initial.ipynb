{
 "cells": [
  {
   "cell_type": "code",
   "execution_count": 2,
   "metadata": {},
   "outputs": [],
   "source": [
    "import pandas as pd\n",
    "import numpy as np\n",
    "from math import radians\n",
    "from sklearn.neighbors import KNeighborsRegressor\n",
    "from sklearn.model_selection import train_test_split\n",
    "from sklearn.metrics import mean_absolute_error\n",
    "from sklearn.metrics import mean_squared_error\n",
    "import math\n",
    "from sklearn.metrics import auc, roc_curve, confusion_matrix\n",
    "import pickle"
   ]
  },
  {
   "cell_type": "code",
   "execution_count": 3,
   "metadata": {},
   "outputs": [
    {
     "data": {
      "text/html": [
       "<div>\n",
       "<style scoped>\n",
       "    .dataframe tbody tr th:only-of-type {\n",
       "        vertical-align: middle;\n",
       "    }\n",
       "\n",
       "    .dataframe tbody tr th {\n",
       "        vertical-align: top;\n",
       "    }\n",
       "\n",
       "    .dataframe thead th {\n",
       "        text-align: right;\n",
       "    }\n",
       "</style>\n",
       "<table border=\"1\" class=\"dataframe\">\n",
       "  <thead>\n",
       "    <tr style=\"text-align: right;\">\n",
       "      <th></th>\n",
       "      <th>BusID</th>\n",
       "      <th>Latitude</th>\n",
       "      <th>Longitude</th>\n",
       "      <th>Speed</th>\n",
       "      <th>Timestamp</th>\n",
       "    </tr>\n",
       "  </thead>\n",
       "  <tbody>\n",
       "    <tr>\n",
       "      <th>0</th>\n",
       "      <td>150212121</td>\n",
       "      <td>13.074558</td>\n",
       "      <td>77.445549</td>\n",
       "      <td>0.0</td>\n",
       "      <td>2019-08-01 07:00:02</td>\n",
       "    </tr>\n",
       "    <tr>\n",
       "      <th>1</th>\n",
       "      <td>150212121</td>\n",
       "      <td>13.074558</td>\n",
       "      <td>77.445549</td>\n",
       "      <td>0.0</td>\n",
       "      <td>2019-08-01 07:00:12</td>\n",
       "    </tr>\n",
       "    <tr>\n",
       "      <th>2</th>\n",
       "      <td>150212121</td>\n",
       "      <td>13.074558</td>\n",
       "      <td>77.445549</td>\n",
       "      <td>0.0</td>\n",
       "      <td>2019-08-01 07:00:22</td>\n",
       "    </tr>\n",
       "    <tr>\n",
       "      <th>3</th>\n",
       "      <td>150212121</td>\n",
       "      <td>13.074558</td>\n",
       "      <td>77.445549</td>\n",
       "      <td>0.0</td>\n",
       "      <td>2019-08-01 07:00:32</td>\n",
       "    </tr>\n",
       "    <tr>\n",
       "      <th>4</th>\n",
       "      <td>150212121</td>\n",
       "      <td>13.074558</td>\n",
       "      <td>77.445549</td>\n",
       "      <td>0.0</td>\n",
       "      <td>2019-08-01 07:00:42</td>\n",
       "    </tr>\n",
       "    <tr>\n",
       "      <th>...</th>\n",
       "      <td>...</td>\n",
       "      <td>...</td>\n",
       "      <td>...</td>\n",
       "      <td>...</td>\n",
       "      <td>...</td>\n",
       "    </tr>\n",
       "    <tr>\n",
       "      <th>6014941</th>\n",
       "      <td>150813395</td>\n",
       "      <td>13.097612</td>\n",
       "      <td>77.565689</td>\n",
       "      <td>30.0</td>\n",
       "      <td>2019-08-01 18:59:20</td>\n",
       "    </tr>\n",
       "    <tr>\n",
       "      <th>6014942</th>\n",
       "      <td>150813395</td>\n",
       "      <td>13.097538</td>\n",
       "      <td>77.564873</td>\n",
       "      <td>34.0</td>\n",
       "      <td>2019-08-01 18:59:30</td>\n",
       "    </tr>\n",
       "    <tr>\n",
       "      <th>6014943</th>\n",
       "      <td>150813395</td>\n",
       "      <td>13.097462</td>\n",
       "      <td>77.564049</td>\n",
       "      <td>38.0</td>\n",
       "      <td>2019-08-01 18:59:40</td>\n",
       "    </tr>\n",
       "    <tr>\n",
       "      <th>6014944</th>\n",
       "      <td>150813395</td>\n",
       "      <td>13.097604</td>\n",
       "      <td>77.563217</td>\n",
       "      <td>21.0</td>\n",
       "      <td>2019-08-01 18:59:50</td>\n",
       "    </tr>\n",
       "    <tr>\n",
       "      <th>6014945</th>\n",
       "      <td>150813395</td>\n",
       "      <td>13.097601</td>\n",
       "      <td>77.563103</td>\n",
       "      <td>0.0</td>\n",
       "      <td>2019-08-01 19:00:00</td>\n",
       "    </tr>\n",
       "  </tbody>\n",
       "</table>\n",
       "<p>6014946 rows × 5 columns</p>\n",
       "</div>"
      ],
      "text/plain": [
       "             BusID   Latitude  Longitude  Speed           Timestamp\n",
       "0        150212121  13.074558  77.445549    0.0 2019-08-01 07:00:02\n",
       "1        150212121  13.074558  77.445549    0.0 2019-08-01 07:00:12\n",
       "2        150212121  13.074558  77.445549    0.0 2019-08-01 07:00:22\n",
       "3        150212121  13.074558  77.445549    0.0 2019-08-01 07:00:32\n",
       "4        150212121  13.074558  77.445549    0.0 2019-08-01 07:00:42\n",
       "...            ...        ...        ...    ...                 ...\n",
       "6014941  150813395  13.097612  77.565689   30.0 2019-08-01 18:59:20\n",
       "6014942  150813395  13.097538  77.564873   34.0 2019-08-01 18:59:30\n",
       "6014943  150813395  13.097462  77.564049   38.0 2019-08-01 18:59:40\n",
       "6014944  150813395  13.097604  77.563217   21.0 2019-08-01 18:59:50\n",
       "6014945  150813395  13.097601  77.563103    0.0 2019-08-01 19:00:00\n",
       "\n",
       "[6014946 rows x 5 columns]"
      ]
     },
     "execution_count": 3,
     "metadata": {},
     "output_type": "execute_result"
    }
   ],
   "source": [
    "df = pd.read_parquet('data/BMTC.parquet.gzip', engine='pyarrow')  # Speeds @ (loc & time)\n",
    "dfInput = pd.read_csv('data/Input.csv')                           # Input DF\n",
    "dfGroundTruth = pd.read_csv('data/GroundTruth.csv')               # Corresponding Timetaken (O/P)\n",
    "df"
   ]
  },
  {
   "cell_type": "code",
   "execution_count": 4,
   "metadata": {},
   "outputs": [
    {
     "data": {
      "text/html": [
       "<div>\n",
       "<style scoped>\n",
       "    .dataframe tbody tr th:only-of-type {\n",
       "        vertical-align: middle;\n",
       "    }\n",
       "\n",
       "    .dataframe tbody tr th {\n",
       "        vertical-align: top;\n",
       "    }\n",
       "\n",
       "    .dataframe thead th {\n",
       "        text-align: right;\n",
       "    }\n",
       "</style>\n",
       "<table border=\"1\" class=\"dataframe\">\n",
       "  <thead>\n",
       "    <tr style=\"text-align: right;\">\n",
       "      <th></th>\n",
       "      <th>BusID</th>\n",
       "      <th>Latitude</th>\n",
       "      <th>Longitude</th>\n",
       "      <th>Speed</th>\n",
       "      <th>Timestamp</th>\n",
       "    </tr>\n",
       "  </thead>\n",
       "  <tbody>\n",
       "    <tr>\n",
       "      <th>0</th>\n",
       "      <td>150212121</td>\n",
       "      <td>13.074558</td>\n",
       "      <td>77.445549</td>\n",
       "      <td>0.0</td>\n",
       "      <td>2019-08-01 07:00:02</td>\n",
       "    </tr>\n",
       "    <tr>\n",
       "      <th>1</th>\n",
       "      <td>150212121</td>\n",
       "      <td>13.074113</td>\n",
       "      <td>77.445282</td>\n",
       "      <td>21.0</td>\n",
       "      <td>2019-08-01 07:25:26</td>\n",
       "    </tr>\n",
       "    <tr>\n",
       "      <th>2</th>\n",
       "      <td>150212121</td>\n",
       "      <td>13.074060</td>\n",
       "      <td>77.445267</td>\n",
       "      <td>0.0</td>\n",
       "      <td>2019-08-01 07:25:36</td>\n",
       "    </tr>\n",
       "    <tr>\n",
       "      <th>3</th>\n",
       "      <td>150212121</td>\n",
       "      <td>13.069714</td>\n",
       "      <td>77.446480</td>\n",
       "      <td>22.0</td>\n",
       "      <td>2019-08-01 07:31:04</td>\n",
       "    </tr>\n",
       "    <tr>\n",
       "      <th>4</th>\n",
       "      <td>150212121</td>\n",
       "      <td>13.069661</td>\n",
       "      <td>77.446579</td>\n",
       "      <td>14.0</td>\n",
       "      <td>2019-08-01 07:31:14</td>\n",
       "    </tr>\n",
       "    <tr>\n",
       "      <th>...</th>\n",
       "      <td>...</td>\n",
       "      <td>...</td>\n",
       "      <td>...</td>\n",
       "      <td>...</td>\n",
       "      <td>...</td>\n",
       "    </tr>\n",
       "    <tr>\n",
       "      <th>3751330</th>\n",
       "      <td>150813395</td>\n",
       "      <td>13.097612</td>\n",
       "      <td>77.565689</td>\n",
       "      <td>30.0</td>\n",
       "      <td>2019-08-01 18:59:20</td>\n",
       "    </tr>\n",
       "    <tr>\n",
       "      <th>3751331</th>\n",
       "      <td>150813395</td>\n",
       "      <td>13.097538</td>\n",
       "      <td>77.564873</td>\n",
       "      <td>34.0</td>\n",
       "      <td>2019-08-01 18:59:30</td>\n",
       "    </tr>\n",
       "    <tr>\n",
       "      <th>3751332</th>\n",
       "      <td>150813395</td>\n",
       "      <td>13.097462</td>\n",
       "      <td>77.564049</td>\n",
       "      <td>38.0</td>\n",
       "      <td>2019-08-01 18:59:40</td>\n",
       "    </tr>\n",
       "    <tr>\n",
       "      <th>3751333</th>\n",
       "      <td>150813395</td>\n",
       "      <td>13.097604</td>\n",
       "      <td>77.563217</td>\n",
       "      <td>21.0</td>\n",
       "      <td>2019-08-01 18:59:50</td>\n",
       "    </tr>\n",
       "    <tr>\n",
       "      <th>3751334</th>\n",
       "      <td>150813395</td>\n",
       "      <td>13.097601</td>\n",
       "      <td>77.563103</td>\n",
       "      <td>0.0</td>\n",
       "      <td>2019-08-01 19:00:00</td>\n",
       "    </tr>\n",
       "  </tbody>\n",
       "</table>\n",
       "<p>3751335 rows × 5 columns</p>\n",
       "</div>"
      ],
      "text/plain": [
       "             BusID   Latitude  Longitude  Speed           Timestamp\n",
       "0        150212121  13.074558  77.445549    0.0 2019-08-01 07:00:02\n",
       "1        150212121  13.074113  77.445282   21.0 2019-08-01 07:25:26\n",
       "2        150212121  13.074060  77.445267    0.0 2019-08-01 07:25:36\n",
       "3        150212121  13.069714  77.446480   22.0 2019-08-01 07:31:04\n",
       "4        150212121  13.069661  77.446579   14.0 2019-08-01 07:31:14\n",
       "...            ...        ...        ...    ...                 ...\n",
       "3751330  150813395  13.097612  77.565689   30.0 2019-08-01 18:59:20\n",
       "3751331  150813395  13.097538  77.564873   34.0 2019-08-01 18:59:30\n",
       "3751332  150813395  13.097462  77.564049   38.0 2019-08-01 18:59:40\n",
       "3751333  150813395  13.097604  77.563217   21.0 2019-08-01 18:59:50\n",
       "3751334  150813395  13.097601  77.563103    0.0 2019-08-01 19:00:00\n",
       "\n",
       "[3751335 rows x 5 columns]"
      ]
     },
     "execution_count": 4,
     "metadata": {},
     "output_type": "execute_result"
    }
   ],
   "source": [
    "df = df.drop_duplicates(subset=[\"Latitude\", \"Longitude\"], keep='first')\n",
    "df.reset_index(drop=True, inplace=True)\n",
    "df"
   ]
  },
  {
   "cell_type": "code",
   "execution_count": 56,
   "metadata": {},
   "outputs": [],
   "source": [
    "# df.to_csv(\"data/speeds.csv\")"
   ]
  },
  {
   "cell_type": "code",
   "execution_count": 5,
   "metadata": {},
   "outputs": [
    {
     "data": {
      "text/plain": [
       "0.0      1095109\n",
       "20.0       90576\n",
       "21.0       89606\n",
       "22.0       88030\n",
       "23.0       85374\n",
       "          ...   \n",
       "112.0          1\n",
       "104.0          1\n",
       "115.0          1\n",
       "116.0          1\n",
       "106.0          1\n",
       "Name: Speed, Length: 113, dtype: int64"
      ]
     },
     "execution_count": 5,
     "metadata": {},
     "output_type": "execute_result"
    }
   ],
   "source": [
    "df['Speed'].value_counts()"
   ]
  },
  {
   "cell_type": "code",
   "execution_count": 25,
   "metadata": {},
   "outputs": [
    {
     "name": "stdout",
     "output_type": "stream",
     "text": [
      "13.067086 77.451355 25.0\n",
      "13.065458 77.454155 25.0\n",
      "13.058535 77.467628 25.0\n",
      "13.053075 77.485611 25.0\n",
      "13.042361 77.515289 25.0\n",
      "13.041442 77.516991 25.0\n",
      "13.026783 77.543869 25.0\n",
      "13.025930 77.545357 25.0\n",
      "13.023088 77.550278 25.0\n",
      "12.991252 77.574890 25.0\n",
      "12.986321 77.574554 25.0\n",
      "12.980680 77.577888 25.0\n",
      "12.980459 77.579285 25.0\n",
      "12.972924 77.581238 25.0\n",
      "13.007264 77.571198 25.0\n",
      "13.010179 77.570641 25.0\n",
      "13.034695 77.528709 25.0\n",
      "13.045845 77.504982 25.0\n",
      "13.054825 77.473846 25.0\n",
      "13.044542 77.509506 25.0\n",
      "13.042889 77.513504 25.0\n",
      "13.036730 77.524559 25.0\n",
      "13.015430 77.553864 25.0\n",
      "13.016495 77.561157 25.0\n",
      "13.015223 77.563370 25.0\n",
      "13.012750 77.567627 25.0\n",
      "12.998147 77.569382 25.0\n",
      "12.982803 77.574600 25.0\n",
      "13.019767 77.552879 25.0\n",
      "13.035229 77.526909 25.0\n",
      "13.051470 77.490204 25.0\n",
      "13.042819 77.513733 25.0\n",
      "13.037107 77.523758 25.0\n",
      "13.025547 77.546173 25.0\n",
      "13.019224 77.553238 25.0\n",
      "13.015483 77.554649 25.0\n",
      "13.014243 77.565590 25.0\n",
      "13.006676 77.571297 25.0\n",
      "13.018323 77.558624 25.0\n",
      "13.020060 77.552711 25.0\n"
     ]
    }
   ],
   "source": [
    "for i in range(len(df)):\n",
    "    if(df.loc[i, 'Speed'] == 25.0):\n",
    "        print('%.6f' % df.loc[i, 'Latitude'],'%.6f' % df.loc[i, 'Longitude'], df.loc[i, 'Speed'])\n",
    "    if i == 1000:\n",
    "        break"
   ]
  },
  {
   "cell_type": "code",
   "execution_count": 5,
   "metadata": {},
   "outputs": [
    {
     "name": "stderr",
     "output_type": "stream",
     "text": [
      "C:\\Users\\RAZAK\\AppData\\Local\\Temp\\ipykernel_27768\\562795013.py:1: SettingWithCopyWarning: \n",
      "A value is trying to be set on a copy of a slice from a DataFrame.\n",
      "Try using .loc[row_indexer,col_indexer] = value instead\n",
      "\n",
      "See the caveats in the documentation: https://pandas.pydata.org/pandas-docs/stable/user_guide/indexing.html#returning-a-view-versus-a-copy\n",
      "  df['Latitude'] = df['Latitude'].apply(radians)\n",
      "C:\\Users\\RAZAK\\AppData\\Local\\Temp\\ipykernel_27768\\562795013.py:2: SettingWithCopyWarning: \n",
      "A value is trying to be set on a copy of a slice from a DataFrame.\n",
      "Try using .loc[row_indexer,col_indexer] = value instead\n",
      "\n",
      "See the caveats in the documentation: https://pandas.pydata.org/pandas-docs/stable/user_guide/indexing.html#returning-a-view-versus-a-copy\n",
      "  df['Longitude'] = df['Longitude'].apply(radians)\n"
     ]
    }
   ],
   "source": [
    "df['Latitude'] = df['Latitude'].apply(radians)\n",
    "df['Longitude'] = df['Longitude'].apply(radians)"
   ]
  },
  {
   "cell_type": "markdown",
   "metadata": {},
   "source": [
    "Training KNNRegressor Model"
   ]
  },
  {
   "cell_type": "code",
   "execution_count": 37,
   "metadata": {},
   "outputs": [],
   "source": [
    "X = df[['Latitude', 'Longitude']].values\n",
    "y = df['Speed'].values\n",
    "X_train, X_test, y_train, y_test = train_test_split(X, y, test_size=0.25)\n",
    "nbrs = KNeighborsRegressor(weights='distance', metric='haversine', n_neighbors=21)\n",
    "nbrs.fit(X_train, y_train)\n",
    "y_pred = nbrs.predict(X_test)"
   ]
  },
  {
   "cell_type": "code",
   "execution_count": 38,
   "metadata": {},
   "outputs": [
    {
     "data": {
      "text/plain": [
       "array([57.42867335])"
      ]
     },
     "execution_count": 38,
     "metadata": {},
     "output_type": "execute_result"
    }
   ],
   "source": [
    "# rad = radians(77.445549)\n",
    "# rad\n",
    "nbrs.predict([[radians(12.963536),radians(77.583687)]])"
   ]
  },
  {
   "cell_type": "code",
   "execution_count": 16,
   "metadata": {},
   "outputs": [],
   "source": [
    "pickle.dump(nbrs, open('21nbrs.sav', 'wb'))"
   ]
  },
  {
   "cell_type": "markdown",
   "metadata": {},
   "source": [
    "Use Model"
   ]
  },
  {
   "cell_type": "code",
   "execution_count": 6,
   "metadata": {},
   "outputs": [],
   "source": [
    "nbrs1 = pickle.load(open('21nbrs(5.19,67.91,8.24).sav', 'rb'))"
   ]
  },
  {
   "cell_type": "code",
   "execution_count": 36,
   "metadata": {},
   "outputs": [
    {
     "data": {
      "text/plain": [
       "array([19.84669122])"
      ]
     },
     "execution_count": 36,
     "metadata": {},
     "output_type": "execute_result"
    }
   ],
   "source": [
    "nbrs1.predict([[math.radians(12.986321),radians( 77.574554)]])"
   ]
  },
  {
   "cell_type": "code",
   "execution_count": 39,
   "metadata": {},
   "outputs": [
    {
     "name": "stdout",
     "output_type": "stream",
     "text": [
      "MAE: 6.823817717788871\n",
      "MSE: 88.35952772744791\n",
      "RMSE: 9.399974879086002\n"
     ]
    }
   ],
   "source": [
    "print(\"MAE:\", mean_absolute_error(y_test, y_pred))\n",
    "print(\"MSE:\", mean_squared_error(y_test, y_pred))\n",
    "print(\"RMSE:\", math.sqrt(mean_squared_error(y_test, y_pred)))"
   ]
  },
  {
   "cell_type": "code",
   "execution_count": null,
   "metadata": {},
   "outputs": [],
   "source": []
  },
  {
   "cell_type": "code",
   "execution_count": 39,
   "metadata": {},
   "outputs": [
    {
     "name": "stdout",
     "output_type": "stream",
     "text": [
      "AUC: nan\n"
     ]
    },
    {
     "name": "stderr",
     "output_type": "stream",
     "text": [
      "c:\\Users\\RAZAK\\Desktop\\Github\\CNI_Hackathon-main\\venv\\lib\\site-packages\\sklearn\\metrics\\_ranking.py:1018: UndefinedMetricWarning: No positive samples in y_true, true positive value should be meaningless\n",
      "  warnings.warn(\n"
     ]
    }
   ],
   "source": [
    "# Evaluation\n",
    "fpr, tpr, thresholds = roc_curve(y_test, y_pred, pos_label=True)\n",
    "auc_score = round(auc(fpr, tpr), 2)\n",
    "threshold = 0.5\n",
    "print(\"AUC: {}\".format(auc_score))"
   ]
  },
  {
   "cell_type": "markdown",
   "metadata": {},
   "source": [
    "Train data"
   ]
  },
  {
   "cell_type": "code",
   "execution_count": 19,
   "metadata": {},
   "outputs": [],
   "source": [
    "x_pred = nbrs.predict(X_train)\n",
    "# \"MAE:\", mean_absolute_error(y_test, y_pred)"
   ]
  },
  {
   "cell_type": "code",
   "execution_count": 23,
   "metadata": {},
   "outputs": [
    {
     "name": "stdout",
     "output_type": "stream",
     "text": [
      "MAE: 0.8095689499939684\n",
      "MSE: 5.969410741850648\n",
      "RMSE: 2.4432377579455196\n"
     ]
    }
   ],
   "source": [
    "print(\"MAE:\", mean_absolute_error(y_train, x_pred))\n",
    "print(\"MSE:\", mean_squared_error(y_train, x_pred))\n",
    "print(\"RMSE:\", math.sqrt(mean_squared_error(y_train, x_pred)))"
   ]
  },
  {
   "cell_type": "code",
   "execution_count": 3,
   "metadata": {},
   "outputs": [],
   "source": [
    "# data_speeds = np.array(df)\n",
    "# len(data_speeds)"
   ]
  },
  {
   "cell_type": "code",
   "execution_count": 4,
   "metadata": {},
   "outputs": [],
   "source": [
    "# mp_locs_speed = {}\n",
    "# for i in data_speeds:\n",
    "#     lat = i[1]\n",
    "#     lon = i[2] \n",
    "#     speed = i[3] \n",
    "#     if (lat,lon) in mp_locs_speed:\n",
    "#         mp_locs_speed[(lat,lon)] = float(mp_locs_speed[(lat,lon)] + speed) / 2\n",
    "#     else:\n",
    "#         mp_locs_speed[(lat,lon)] = speed"
   ]
  },
  {
   "cell_type": "code",
   "execution_count": 5,
   "metadata": {},
   "outputs": [],
   "source": [
    "# mp_locs_speed[(13.097604,77.563217)]"
   ]
  },
  {
   "cell_type": "code",
   "execution_count": 6,
   "metadata": {},
   "outputs": [],
   "source": [
    "# len(mp_locs_speed)"
   ]
  },
  {
   "cell_type": "code",
   "execution_count": null,
   "metadata": {},
   "outputs": [],
   "source": []
  },
  {
   "cell_type": "code",
   "execution_count": 7,
   "metadata": {},
   "outputs": [
    {
     "data": {
      "text/html": [
       "<div>\n",
       "<style scoped>\n",
       "    .dataframe tbody tr th:only-of-type {\n",
       "        vertical-align: middle;\n",
       "    }\n",
       "\n",
       "    .dataframe tbody tr th {\n",
       "        vertical-align: top;\n",
       "    }\n",
       "\n",
       "    .dataframe thead th {\n",
       "        text-align: right;\n",
       "    }\n",
       "</style>\n",
       "<table border=\"1\" class=\"dataframe\">\n",
       "  <thead>\n",
       "    <tr style=\"text-align: right;\">\n",
       "      <th></th>\n",
       "      <th>Source_Lat</th>\n",
       "      <th>Source_Long</th>\n",
       "      <th>Dest_Lat</th>\n",
       "      <th>Dest_Long</th>\n",
       "    </tr>\n",
       "  </thead>\n",
       "  <tbody>\n",
       "    <tr>\n",
       "      <th>0</th>\n",
       "      <td>12.941644</td>\n",
       "      <td>77.557335</td>\n",
       "      <td>12.942002</td>\n",
       "      <td>77.551605</td>\n",
       "    </tr>\n",
       "    <tr>\n",
       "      <th>1</th>\n",
       "      <td>12.845487</td>\n",
       "      <td>77.662079</td>\n",
       "      <td>12.845881</td>\n",
       "      <td>77.667892</td>\n",
       "    </tr>\n",
       "    <tr>\n",
       "      <th>2</th>\n",
       "      <td>12.973492</td>\n",
       "      <td>77.622871</td>\n",
       "      <td>12.957303</td>\n",
       "      <td>77.621246</td>\n",
       "    </tr>\n",
       "    <tr>\n",
       "      <th>3</th>\n",
       "      <td>12.819298</td>\n",
       "      <td>77.688995</td>\n",
       "      <td>12.814241</td>\n",
       "      <td>77.692986</td>\n",
       "    </tr>\n",
       "    <tr>\n",
       "      <th>4</th>\n",
       "      <td>12.973240</td>\n",
       "      <td>77.615402</td>\n",
       "      <td>13.016170</td>\n",
       "      <td>77.627800</td>\n",
       "    </tr>\n",
       "    <tr>\n",
       "      <th>...</th>\n",
       "      <td>...</td>\n",
       "      <td>...</td>\n",
       "      <td>...</td>\n",
       "      <td>...</td>\n",
       "    </tr>\n",
       "    <tr>\n",
       "      <th>1200</th>\n",
       "      <td>13.097792</td>\n",
       "      <td>77.591736</td>\n",
       "      <td>13.154475</td>\n",
       "      <td>77.568077</td>\n",
       "    </tr>\n",
       "    <tr>\n",
       "      <th>1201</th>\n",
       "      <td>12.794702</td>\n",
       "      <td>77.624046</td>\n",
       "      <td>12.863790</td>\n",
       "      <td>77.616608</td>\n",
       "    </tr>\n",
       "    <tr>\n",
       "      <th>1202</th>\n",
       "      <td>12.922270</td>\n",
       "      <td>77.743591</td>\n",
       "      <td>12.983501</td>\n",
       "      <td>77.752258</td>\n",
       "    </tr>\n",
       "    <tr>\n",
       "      <th>1203</th>\n",
       "      <td>12.918303</td>\n",
       "      <td>77.589500</td>\n",
       "      <td>12.923568</td>\n",
       "      <td>77.655655</td>\n",
       "    </tr>\n",
       "    <tr>\n",
       "      <th>1204</th>\n",
       "      <td>12.984523</td>\n",
       "      <td>77.600754</td>\n",
       "      <td>13.083735</td>\n",
       "      <td>77.560806</td>\n",
       "    </tr>\n",
       "  </tbody>\n",
       "</table>\n",
       "<p>1205 rows × 4 columns</p>\n",
       "</div>"
      ],
      "text/plain": [
       "      Source_Lat  Source_Long   Dest_Lat  Dest_Long\n",
       "0      12.941644    77.557335  12.942002  77.551605\n",
       "1      12.845487    77.662079  12.845881  77.667892\n",
       "2      12.973492    77.622871  12.957303  77.621246\n",
       "3      12.819298    77.688995  12.814241  77.692986\n",
       "4      12.973240    77.615402  13.016170  77.627800\n",
       "...          ...          ...        ...        ...\n",
       "1200   13.097792    77.591736  13.154475  77.568077\n",
       "1201   12.794702    77.624046  12.863790  77.616608\n",
       "1202   12.922270    77.743591  12.983501  77.752258\n",
       "1203   12.918303    77.589500  12.923568  77.655655\n",
       "1204   12.984523    77.600754  13.083735  77.560806\n",
       "\n",
       "[1205 rows x 4 columns]"
      ]
     },
     "execution_count": 7,
     "metadata": {},
     "output_type": "execute_result"
    }
   ],
   "source": [
    "dfInput = dfInput.loc[:, ~dfInput.columns.str.contains('^Unnamed')]\n",
    "dfInput\n"
   ]
  },
  {
   "cell_type": "code",
   "execution_count": 8,
   "metadata": {},
   "outputs": [
    {
     "data": {
      "text/html": [
       "<div>\n",
       "<style scoped>\n",
       "    .dataframe tbody tr th:only-of-type {\n",
       "        vertical-align: middle;\n",
       "    }\n",
       "\n",
       "    .dataframe tbody tr th {\n",
       "        vertical-align: top;\n",
       "    }\n",
       "\n",
       "    .dataframe thead th {\n",
       "        text-align: right;\n",
       "    }\n",
       "</style>\n",
       "<table border=\"1\" class=\"dataframe\">\n",
       "  <thead>\n",
       "    <tr style=\"text-align: right;\">\n",
       "      <th></th>\n",
       "      <th>TT</th>\n",
       "    </tr>\n",
       "  </thead>\n",
       "  <tbody>\n",
       "    <tr>\n",
       "      <th>0</th>\n",
       "      <td>2.833333</td>\n",
       "    </tr>\n",
       "    <tr>\n",
       "      <th>1</th>\n",
       "      <td>1.500000</td>\n",
       "    </tr>\n",
       "    <tr>\n",
       "      <th>2</th>\n",
       "      <td>21.250000</td>\n",
       "    </tr>\n",
       "    <tr>\n",
       "      <th>3</th>\n",
       "      <td>2.000000</td>\n",
       "    </tr>\n",
       "    <tr>\n",
       "      <th>4</th>\n",
       "      <td>35.733333</td>\n",
       "    </tr>\n",
       "    <tr>\n",
       "      <th>...</th>\n",
       "      <td>...</td>\n",
       "    </tr>\n",
       "    <tr>\n",
       "      <th>1200</th>\n",
       "      <td>27.233333</td>\n",
       "    </tr>\n",
       "    <tr>\n",
       "      <th>1201</th>\n",
       "      <td>26.750000</td>\n",
       "    </tr>\n",
       "    <tr>\n",
       "      <th>1202</th>\n",
       "      <td>53.600000</td>\n",
       "    </tr>\n",
       "    <tr>\n",
       "      <th>1203</th>\n",
       "      <td>59.616667</td>\n",
       "    </tr>\n",
       "    <tr>\n",
       "      <th>1204</th>\n",
       "      <td>59.816667</td>\n",
       "    </tr>\n",
       "  </tbody>\n",
       "</table>\n",
       "<p>1205 rows × 1 columns</p>\n",
       "</div>"
      ],
      "text/plain": [
       "             TT\n",
       "0      2.833333\n",
       "1      1.500000\n",
       "2     21.250000\n",
       "3      2.000000\n",
       "4     35.733333\n",
       "...         ...\n",
       "1200  27.233333\n",
       "1201  26.750000\n",
       "1202  53.600000\n",
       "1203  59.616667\n",
       "1204  59.816667\n",
       "\n",
       "[1205 rows x 1 columns]"
      ]
     },
     "execution_count": 8,
     "metadata": {},
     "output_type": "execute_result"
    }
   ],
   "source": [
    "dfGroundTruth = dfGroundTruth.loc[:, ~dfGroundTruth.columns.str.contains('^Unnamed')]\n",
    "dfGroundTruth"
   ]
  },
  {
   "cell_type": "code",
   "execution_count": 9,
   "metadata": {},
   "outputs": [
    {
     "data": {
      "text/html": [
       "<div>\n",
       "<style scoped>\n",
       "    .dataframe tbody tr th:only-of-type {\n",
       "        vertical-align: middle;\n",
       "    }\n",
       "\n",
       "    .dataframe tbody tr th {\n",
       "        vertical-align: top;\n",
       "    }\n",
       "\n",
       "    .dataframe thead th {\n",
       "        text-align: right;\n",
       "    }\n",
       "</style>\n",
       "<table border=\"1\" class=\"dataframe\">\n",
       "  <thead>\n",
       "    <tr style=\"text-align: right;\">\n",
       "      <th></th>\n",
       "      <th>Source_Lat</th>\n",
       "      <th>Source_Long</th>\n",
       "      <th>Dest_Lat</th>\n",
       "      <th>Dest_Long</th>\n",
       "      <th>TT</th>\n",
       "    </tr>\n",
       "  </thead>\n",
       "  <tbody>\n",
       "    <tr>\n",
       "      <th>0</th>\n",
       "      <td>12.941644</td>\n",
       "      <td>77.557335</td>\n",
       "      <td>12.942002</td>\n",
       "      <td>77.551605</td>\n",
       "      <td>2.833333</td>\n",
       "    </tr>\n",
       "    <tr>\n",
       "      <th>1</th>\n",
       "      <td>12.845487</td>\n",
       "      <td>77.662079</td>\n",
       "      <td>12.845881</td>\n",
       "      <td>77.667892</td>\n",
       "      <td>1.500000</td>\n",
       "    </tr>\n",
       "    <tr>\n",
       "      <th>2</th>\n",
       "      <td>12.973492</td>\n",
       "      <td>77.622871</td>\n",
       "      <td>12.957303</td>\n",
       "      <td>77.621246</td>\n",
       "      <td>21.250000</td>\n",
       "    </tr>\n",
       "    <tr>\n",
       "      <th>3</th>\n",
       "      <td>12.819298</td>\n",
       "      <td>77.688995</td>\n",
       "      <td>12.814241</td>\n",
       "      <td>77.692986</td>\n",
       "      <td>2.000000</td>\n",
       "    </tr>\n",
       "    <tr>\n",
       "      <th>4</th>\n",
       "      <td>12.973240</td>\n",
       "      <td>77.615402</td>\n",
       "      <td>13.016170</td>\n",
       "      <td>77.627800</td>\n",
       "      <td>35.733333</td>\n",
       "    </tr>\n",
       "    <tr>\n",
       "      <th>...</th>\n",
       "      <td>...</td>\n",
       "      <td>...</td>\n",
       "      <td>...</td>\n",
       "      <td>...</td>\n",
       "      <td>...</td>\n",
       "    </tr>\n",
       "    <tr>\n",
       "      <th>1200</th>\n",
       "      <td>13.097792</td>\n",
       "      <td>77.591736</td>\n",
       "      <td>13.154475</td>\n",
       "      <td>77.568077</td>\n",
       "      <td>27.233333</td>\n",
       "    </tr>\n",
       "    <tr>\n",
       "      <th>1201</th>\n",
       "      <td>12.794702</td>\n",
       "      <td>77.624046</td>\n",
       "      <td>12.863790</td>\n",
       "      <td>77.616608</td>\n",
       "      <td>26.750000</td>\n",
       "    </tr>\n",
       "    <tr>\n",
       "      <th>1202</th>\n",
       "      <td>12.922270</td>\n",
       "      <td>77.743591</td>\n",
       "      <td>12.983501</td>\n",
       "      <td>77.752258</td>\n",
       "      <td>53.600000</td>\n",
       "    </tr>\n",
       "    <tr>\n",
       "      <th>1203</th>\n",
       "      <td>12.918303</td>\n",
       "      <td>77.589500</td>\n",
       "      <td>12.923568</td>\n",
       "      <td>77.655655</td>\n",
       "      <td>59.616667</td>\n",
       "    </tr>\n",
       "    <tr>\n",
       "      <th>1204</th>\n",
       "      <td>12.984523</td>\n",
       "      <td>77.600754</td>\n",
       "      <td>13.083735</td>\n",
       "      <td>77.560806</td>\n",
       "      <td>59.816667</td>\n",
       "    </tr>\n",
       "  </tbody>\n",
       "</table>\n",
       "<p>1205 rows × 5 columns</p>\n",
       "</div>"
      ],
      "text/plain": [
       "      Source_Lat  Source_Long   Dest_Lat  Dest_Long         TT\n",
       "0      12.941644    77.557335  12.942002  77.551605   2.833333\n",
       "1      12.845487    77.662079  12.845881  77.667892   1.500000\n",
       "2      12.973492    77.622871  12.957303  77.621246  21.250000\n",
       "3      12.819298    77.688995  12.814241  77.692986   2.000000\n",
       "4      12.973240    77.615402  13.016170  77.627800  35.733333\n",
       "...          ...          ...        ...        ...        ...\n",
       "1200   13.097792    77.591736  13.154475  77.568077  27.233333\n",
       "1201   12.794702    77.624046  12.863790  77.616608  26.750000\n",
       "1202   12.922270    77.743591  12.983501  77.752258  53.600000\n",
       "1203   12.918303    77.589500  12.923568  77.655655  59.616667\n",
       "1204   12.984523    77.600754  13.083735  77.560806  59.816667\n",
       "\n",
       "[1205 rows x 5 columns]"
      ]
     },
     "execution_count": 9,
     "metadata": {},
     "output_type": "execute_result"
    }
   ],
   "source": [
    "df_combined = pd.concat([dfInput, dfGroundTruth], axis=1)\n",
    "df_combined"
   ]
  },
  {
   "cell_type": "code",
   "execution_count": null,
   "metadata": {},
   "outputs": [],
   "source": []
  }
 ],
 "metadata": {
  "kernelspec": {
   "display_name": "Python 3.10.0 ('venv': venv)",
   "language": "python",
   "name": "python3"
  },
  "language_info": {
   "codemirror_mode": {
    "name": "ipython",
    "version": 3
   },
   "file_extension": ".py",
   "mimetype": "text/x-python",
   "name": "python",
   "nbconvert_exporter": "python",
   "pygments_lexer": "ipython3",
   "version": "3.10.0"
  },
  "orig_nbformat": 4,
  "vscode": {
   "interpreter": {
    "hash": "c33797d7be15b7159302cceaf31399d146a6bc3ee2b9cce15795bee88cc5d90c"
   }
  }
 },
 "nbformat": 4,
 "nbformat_minor": 2
}
