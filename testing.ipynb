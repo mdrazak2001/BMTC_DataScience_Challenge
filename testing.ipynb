{
 "cells": [
  {
   "cell_type": "code",
   "execution_count": 3,
   "metadata": {},
   "outputs": [],
   "source": [
    "import math\n",
    "import pickle\n",
    "import geopandas as gpd\n",
    "import pandas as pd\n",
    "from sklearn.metrics import mean_absolute_error, mean_squared_error\n",
    "\n",
    "\n",
    "def getPathLength(lat1,lng1,lat2,lng2):\n",
    "    '''calculates the distance between two lat, long coordinate pairs'''\n",
    "    R = 6371000 # radius of earth in m\n",
    "    lat1rads = math.radians(lat1)\n",
    "    lat2rads = math.radians(lat2)\n",
    "    deltaLat = math.radians((lat2-lat1))\n",
    "    deltaLng = math.radians((lng2-lng1))\n",
    "    a = math.sin(deltaLat/2) * math.sin(deltaLat/2) + math.cos(lat1rads) * math.cos(lat2rads) * math.sin(deltaLng/2) * math.sin(deltaLng/2)\n",
    "    c = 2 * math.atan2(math.sqrt(a), math.sqrt(1-a))\n",
    "    d = R * c\n",
    "    return d\n",
    "\n",
    "def getDestinationLatLong(lat,lng,azimuth,distance):\n",
    "    '''returns the lat an long of destination point \n",
    "    given the start lat, long, aziuth, and distance'''\n",
    "    R = 6378.1 #Radius of the Earth in km\n",
    "    brng = math.radians(azimuth) #Bearing is degrees converted to radians.\n",
    "    d = distance/1000 #Distance m converted to km\n",
    "    lat1 = math.radians(lat) #Current dd lat point converted to radians\n",
    "    lon1 = math.radians(lng) #Current dd long point converted to radians\n",
    "    lat2 = math.asin(math.sin(lat1) * math.cos(d/R) + math.cos(lat1)* math.sin(d/R)* math.cos(brng))\n",
    "    lon2 = lon1 + math.atan2(math.sin(brng) * math.sin(d/R)* math.cos(lat1), math.cos(d/R)- math.sin(lat1)* math.sin(lat2))\n",
    "    #convert back to degrees\n",
    "    lat2 = math.degrees(lat2)\n",
    "    lon2 = math.degrees(lon2)\n",
    "    return[lat2, lon2]\n",
    "\n",
    "def calculateBearing(lat1,lng1,lat2,lng2):\n",
    "    '''calculates the azimuth in degrees from start point to end point'''\n",
    "    startLat = math.radians(lat1)\n",
    "    startLong = math.radians(lng1)\n",
    "    endLat = math.radians(lat2)\n",
    "    endLong = math.radians(lng2)\n",
    "    dLong = endLong - startLong\n",
    "    dPhi = math.log(math.tan(endLat/2.0+math.pi/4.0)/math.tan(startLat/2.0+math.pi/4.0))\n",
    "    if abs(dLong) > math.pi:\n",
    "         if dLong > 0.0:\n",
    "             dLong = -(2.0 * math.pi - dLong)\n",
    "         else:\n",
    "             dLong = (2.0 * math.pi + dLong)\n",
    "    bearing = (math.degrees(math.atan2(dLong, dPhi)) + 360.0) % 360.0;\n",
    "    return bearing\n",
    "\n",
    "def coords_src_dest(interval,azimuth,lat1,lng1,lat2,lng2):\n",
    "    '''returns every coordinate pair inbetween two coordinate \n",
    "    pairs given the desired interval'''\n",
    "\n",
    "    d = getPathLength(lat1,lng1,lat2,lng2)\n",
    "    remainder, dist = math.modf((d / interval))\n",
    "    counter = float(interval)\n",
    "    coords = []\n",
    "    coords.append([lat1,lng1])\n",
    "    for distance in range(0,int(dist)):\n",
    "        coord = getDestinationLatLong(lat1,lng1,azimuth,counter)\n",
    "        counter = counter + float(interval)\n",
    "        coords.append(coord)\n",
    "    coords.append([lat2,lng2])\n",
    "    return coords\n",
    "\n",
    "def locs_to_avgspeed(lat1, lng1, lat2, lng2, model):\n",
    "    interval = 25\n",
    "    azimuth = calculateBearing(lat1, lng1, lat2, lng2)\n",
    "    coords =  coords_src_dest(interval, azimuth, lat1, lng1, lat2, lng2)\n",
    "    speeds = float()\n",
    "    for lat, lng in coords:\n",
    "        speeds = speeds + model.predict([[math.radians(lat),math.radians(lng)]])\n",
    "    return float(speeds / len(coords))\n",
    "\n",
    "def prediction(dfInput, model1, model2): \n",
    "    ETT = []\n",
    "    distances = []\n",
    "    speeds = []\n",
    "    Numpy_Vectorized_df = dfInput.to_numpy()\n",
    "    for row in Numpy_Vectorized_df:\n",
    "        speed = locs_to_avgspeed(row[0], row[1], row[2], row[3], model1)\n",
    "        distance = getPathLength(row[0], row[1], row[2], row[3]) / 1000\n",
    "        time = distance * 60 / speed\n",
    "        time_updated = model2.predict([[speed, distance, time]])[0]\n",
    "        ETT.append(time_updated)\n",
    "        distances.append(distance)\n",
    "        speeds.append(speed)\n",
    "    return ETT, distances, speeds\n",
    "\n",
    "df = pd.read_parquet('./../data/BMTC.parquet.gzip', engine='pyarrow')\n",
    "dfInput = pd.read_csv('./../data/Input.csv')\n",
    "dfGroundTruth = pd.read_csv('./../data/GroundTruth.csv') \n",
    "    \n",
    "\n",
    "def EstimatedTravelTime(df, dfInput): # The output of this function will be evaluated\n",
    "    # Function body - Begins\n",
    "    model1 = pickle.load(open('Loc_Speed.sav', 'rb'))\n",
    "    model2 = pickle.load(open('Speeds_Dist_ETT.sav', 'rb'))\n",
    "    ETT, distances, speeds = prediction(dfInput, model1, model2)\n",
    "    dfOutput = pd.DataFrame(ETT, columns =['ETT'])\n",
    "    # Function body - Ends\n",
    "    return dfOutput "
   ]
  },
  {
   "cell_type": "code",
   "execution_count": 4,
   "metadata": {},
   "outputs": [],
   "source": [
    "dfInput = dfInput.loc[:, ~dfInput.columns.str.contains('^Unnamed')]\n",
    "dfOutput = EstimatedTravelTime(df, dfInput)"
   ]
  },
  {
   "cell_type": "code",
   "execution_count": 5,
   "metadata": {},
   "outputs": [
    {
     "name": "stdout",
     "output_type": "stream",
     "text": [
      "MAE: 6.605919842226036\n",
      "MSE: 78.25485732734043\n",
      "RMSE: 8.846177554590481\n"
     ]
    }
   ],
   "source": [
    "print(\"MAE:\", mean_absolute_error(dfGroundTruth['TT'], dfOutput['ETT']))\n",
    "print(\"MSE:\", mean_squared_error(dfGroundTruth['TT'], dfOutput['ETT']))\n",
    "print(\"RMSE:\", math.sqrt(mean_squared_error(dfGroundTruth['TT'], dfOutput['ETT'])))"
   ]
  },
  {
   "cell_type": "code",
   "execution_count": 9,
   "metadata": {},
   "outputs": [
    {
     "data": {
      "text/plain": [
       "0        2.833333\n",
       "1        1.500000\n",
       "2       21.250000\n",
       "3        2.000000\n",
       "4       35.733333\n",
       "          ...    \n",
       "1200    27.233333\n",
       "1201    26.750000\n",
       "1202    53.600000\n",
       "1203    59.616667\n",
       "1204    59.816667\n",
       "Name: TT, Length: 1205, dtype: float64"
      ]
     },
     "execution_count": 9,
     "metadata": {},
     "output_type": "execute_result"
    }
   ],
   "source": [
    "dfGroundTruth['TT']"
   ]
  },
  {
   "cell_type": "code",
   "execution_count": 8,
   "metadata": {},
   "outputs": [
    {
     "data": {
      "text/plain": [
       "0        4.124706\n",
       "1        1.419898\n",
       "2       10.402947\n",
       "3        1.546715\n",
       "4       34.661196\n",
       "          ...    \n",
       "1200    24.179794\n",
       "1201    30.715755\n",
       "1202    42.972197\n",
       "1203    48.590186\n",
       "1204    61.210662\n",
       "Name: ETT, Length: 1205, dtype: float64"
      ]
     },
     "execution_count": 8,
     "metadata": {},
     "output_type": "execute_result"
    }
   ],
   "source": [
    "dfOutput['ETT']"
   ]
  }
 ],
 "metadata": {
  "kernelspec": {
   "display_name": "Python 3.10.0 ('venv': venv)",
   "language": "python",
   "name": "python3"
  },
  "language_info": {
   "codemirror_mode": {
    "name": "ipython",
    "version": 3
   },
   "file_extension": ".py",
   "mimetype": "text/x-python",
   "name": "python",
   "nbconvert_exporter": "python",
   "pygments_lexer": "ipython3",
   "version": "3.10.0"
  },
  "orig_nbformat": 4,
  "vscode": {
   "interpreter": {
    "hash": "c33797d7be15b7159302cceaf31399d146a6bc3ee2b9cce15795bee88cc5d90c"
   }
  }
 },
 "nbformat": 4,
 "nbformat_minor": 2
}
